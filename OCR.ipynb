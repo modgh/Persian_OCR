{
  "nbformat": 4,
  "nbformat_minor": 0,
  "metadata": {
    "colab": {
      "name": "OCR.ipynb",
      "version": "0.3.2",
      "provenance": [],
      "collapsed_sections": [],
      "toc_visible": true
    },
    "kernelspec": {
      "name": "python3",
      "display_name": "Python 3"
    },
    "accelerator": "GPU"
  },
  "cells": [
    {
      "metadata": {
        "id": "Xrfyjg6--Pz5",
        "colab_type": "code",
        "outputId": "e374e3f0-295f-4656-a6b3-7c3f4f8624c8",
        "colab": {
          "base_uri": "https://localhost:8080/",
          "height": 607
        }
      },
      "cell_type": "code",
      "source": [
        "!pip install arabic_reshaper\n",
        "!pip install python-bidi\n",
        "\n",
        "# !wget 'https://www.fontyab.com/wp-content/uploads/Far_khodkar.zip'\n",
        "# !unzip 'Far_khodkar.zip'\n",
        "\n",
        "!wget 'https://www.fontyab.com/wp-content/uploads/B-Mitra.zip'\n",
        "!unzip 'B-Mitra.zip'"
      ],
      "execution_count": 0,
      "outputs": [
        {
          "output_type": "stream",
          "text": [
            "Collecting arabic_reshaper\n",
            "  Downloading https://files.pythonhosted.org/packages/50/77/696617b49322441517a725faadbf14bc00d165ba3a8211432cb287207b5f/arabic_reshaper-2.0.14-py3-none-any.whl\n",
            "Collecting configparser (from arabic_reshaper)\n",
            "  Downloading https://files.pythonhosted.org/packages/7c/69/c2ce7e91c89dc073eb1aa74c0621c3eefbffe8216b3f9af9d3885265c01c/configparser-3.5.0.tar.gz\n",
            "Requirement already satisfied: future in /usr/local/lib/python3.6/dist-packages (from arabic_reshaper) (0.16.0)\n",
            "Building wheels for collected packages: configparser\n",
            "  Running setup.py bdist_wheel for configparser ... \u001b[?25l-\b \bdone\n",
            "\u001b[?25h  Stored in directory: /root/.cache/pip/wheels/a3/61/79/424ef897a2f3b14684a7de5d89e8600b460b89663e6ce9d17c\n",
            "Successfully built configparser\n",
            "Installing collected packages: configparser, arabic-reshaper\n",
            "Successfully installed arabic-reshaper-2.0.14 configparser-3.5.0\n",
            "Collecting python-bidi\n",
            "  Downloading https://files.pythonhosted.org/packages/e0/a7/ea6334b798546ed8584cb8cdc5d153c289294287b4ab46e9a4242480eae3/python_bidi-0.4.0-py2.py3-none-any.whl\n",
            "Requirement already satisfied: six in /usr/local/lib/python3.6/dist-packages (from python-bidi) (1.11.0)\n",
            "Installing collected packages: python-bidi\n",
            "Successfully installed python-bidi-0.4.0\n",
            "--2019-01-17 18:16:54--  https://www.fontyab.com/wp-content/uploads/B-Mitra.zip\n",
            "Resolving www.fontyab.com (www.fontyab.com)... 89.42.209.236\n",
            "Connecting to www.fontyab.com (www.fontyab.com)|89.42.209.236|:443... connected.\n",
            "HTTP request sent, awaiting response... 200 OK\n",
            "Length: 53127 (52K) [application/zip]\n",
            "Saving to: ‘B-Mitra.zip’\n",
            "\n",
            "B-Mitra.zip         100%[===================>]  51.88K  88.1KB/s    in 0.6s    \n",
            "\n",
            "2019-01-17 18:16:56 (88.1 KB/s) - ‘B-Mitra.zip’ saved [53127/53127]\n",
            "\n",
            "Archive:  B-Mitra.zip\n",
            "   creating: B-Mitra/\n",
            "  inflating: B-Mitra/B Mitra Bold_0.ttf  \n",
            "  inflating: B-Mitra/B Mitra_0.ttf   \n",
            "  inflating: B-Mitra/Fontyab.com.url  \n",
            "  inflating: B-Mitra/Fontyab.ir.url  \n",
            "  inflating: B-Mitra/read me!.txt    \n"
          ],
          "name": "stdout"
        }
      ]
    },
    {
      "metadata": {
        "id": "HCsHlVXX9Vkl",
        "colab_type": "code",
        "colab": {}
      },
      "cell_type": "code",
      "source": [
        "from PIL import Image\n",
        "from PIL import ImageFont\n",
        "from PIL import ImageDraw\n",
        "import numpy as np\n",
        "import cv2\n",
        "import matplotlib.pyplot as plt\n",
        "import arabic_reshaper\n",
        "from bidi.algorithm import get_display\n",
        "%matplotlib inline"
      ],
      "execution_count": 0,
      "outputs": []
    },
    {
      "metadata": {
        "id": "ussMW4R-g6OO",
        "colab_type": "code",
        "colab": {}
      },
      "cell_type": "code",
      "source": [
        "from google.colab import drive\n",
        "drive.mount('/content/gdrive')\n",
        "\n",
        "# !cp X.npy 'gdrive/My Drive/OCR/X_30000.npy'\n",
        "# !cp y.npy 'gdrive/My Drive/OCR/y_30000.npy'\n",
        "\n",
        "!cp 'gdrive/My Drive/OCR/names.txt' names.txt\n",
        "!cp 'gdrive/My Drive/OCR/lastName.txt' lastName.txt"
      ],
      "execution_count": 0,
      "outputs": []
    },
    {
      "metadata": {
        "id": "MKpc6O8s97cZ",
        "colab_type": "code",
        "outputId": "0d228bbd-306a-438e-ca2f-97a61627ec6a",
        "colab": {
          "base_uri": "https://localhost:8080/",
          "height": 480
        }
      },
      "cell_type": "code",
      "source": [
        "img = Image.fromarray(np.zeros((90, 100)))\n",
        "draw = ImageDraw.Draw(img)\n",
        "font = ImageFont.truetype('B-Mitra/B Mitr-0.ttf', 60)\n",
        "text = get_display(arabic_reshaper.reshape(\"ی\"))\n",
        "draw.text((0, 10), text, 255, font=font)\n",
        "img = 255 - np.array(img)\n",
        "plt.imshow(img)"
      ],
      "execution_count": 0,
      "outputs": [
        {
          "output_type": "error",
          "ename": "OSError",
          "evalue": "ignored",
          "traceback": [
            "\u001b[0;31m---------------------------------------------------------------------------\u001b[0m",
            "\u001b[0;31mOSError\u001b[0m                                   Traceback (most recent call last)",
            "\u001b[0;32m<ipython-input-6-3784d288c8f9>\u001b[0m in \u001b[0;36m<module>\u001b[0;34m()\u001b[0m\n\u001b[1;32m      1\u001b[0m \u001b[0mimg\u001b[0m \u001b[0;34m=\u001b[0m \u001b[0mImage\u001b[0m\u001b[0;34m.\u001b[0m\u001b[0mfromarray\u001b[0m\u001b[0;34m(\u001b[0m\u001b[0mnp\u001b[0m\u001b[0;34m.\u001b[0m\u001b[0mzeros\u001b[0m\u001b[0;34m(\u001b[0m\u001b[0;34m(\u001b[0m\u001b[0;36m90\u001b[0m\u001b[0;34m,\u001b[0m \u001b[0;36m100\u001b[0m\u001b[0;34m)\u001b[0m\u001b[0;34m)\u001b[0m\u001b[0;34m)\u001b[0m\u001b[0;34m\u001b[0m\u001b[0;34m\u001b[0m\u001b[0m\n\u001b[1;32m      2\u001b[0m \u001b[0mdraw\u001b[0m \u001b[0;34m=\u001b[0m \u001b[0mImageDraw\u001b[0m\u001b[0;34m.\u001b[0m\u001b[0mDraw\u001b[0m\u001b[0;34m(\u001b[0m\u001b[0mimg\u001b[0m\u001b[0;34m)\u001b[0m\u001b[0;34m\u001b[0m\u001b[0;34m\u001b[0m\u001b[0m\n\u001b[0;32m----> 3\u001b[0;31m \u001b[0mfont\u001b[0m \u001b[0;34m=\u001b[0m \u001b[0mImageFont\u001b[0m\u001b[0;34m.\u001b[0m\u001b[0mtruetype\u001b[0m\u001b[0;34m(\u001b[0m\u001b[0;34m'B-Mitra/B Mitr-0.ttf'\u001b[0m\u001b[0;34m,\u001b[0m \u001b[0;36m60\u001b[0m\u001b[0;34m)\u001b[0m\u001b[0;34m\u001b[0m\u001b[0;34m\u001b[0m\u001b[0m\n\u001b[0m\u001b[1;32m      4\u001b[0m \u001b[0mtext\u001b[0m \u001b[0;34m=\u001b[0m \u001b[0mget_display\u001b[0m\u001b[0;34m(\u001b[0m\u001b[0marabic_reshaper\u001b[0m\u001b[0;34m.\u001b[0m\u001b[0mreshape\u001b[0m\u001b[0;34m(\u001b[0m\u001b[0;34m\"ی\"\u001b[0m\u001b[0;34m)\u001b[0m\u001b[0;34m)\u001b[0m\u001b[0;34m\u001b[0m\u001b[0;34m\u001b[0m\u001b[0m\n\u001b[1;32m      5\u001b[0m \u001b[0mdraw\u001b[0m\u001b[0;34m.\u001b[0m\u001b[0mtext\u001b[0m\u001b[0;34m(\u001b[0m\u001b[0;34m(\u001b[0m\u001b[0;36m0\u001b[0m\u001b[0;34m,\u001b[0m \u001b[0;36m10\u001b[0m\u001b[0;34m)\u001b[0m\u001b[0;34m,\u001b[0m \u001b[0mtext\u001b[0m\u001b[0;34m,\u001b[0m \u001b[0;36m255\u001b[0m\u001b[0;34m,\u001b[0m \u001b[0mfont\u001b[0m\u001b[0;34m=\u001b[0m\u001b[0mfont\u001b[0m\u001b[0;34m)\u001b[0m\u001b[0;34m\u001b[0m\u001b[0;34m\u001b[0m\u001b[0m\n",
            "\u001b[0;32m/usr/local/lib/python3.6/dist-packages/PIL/ImageFont.py\u001b[0m in \u001b[0;36mtruetype\u001b[0;34m(font, size, index, encoding)\u001b[0m\n\u001b[1;32m    236\u001b[0m \u001b[0;34m\u001b[0m\u001b[0m\n\u001b[1;32m    237\u001b[0m     \u001b[0;32mtry\u001b[0m\u001b[0;34m:\u001b[0m\u001b[0;34m\u001b[0m\u001b[0;34m\u001b[0m\u001b[0m\n\u001b[0;32m--> 238\u001b[0;31m         \u001b[0;32mreturn\u001b[0m \u001b[0mFreeTypeFont\u001b[0m\u001b[0;34m(\u001b[0m\u001b[0mfont\u001b[0m\u001b[0;34m,\u001b[0m \u001b[0msize\u001b[0m\u001b[0;34m,\u001b[0m \u001b[0mindex\u001b[0m\u001b[0;34m,\u001b[0m \u001b[0mencoding\u001b[0m\u001b[0;34m)\u001b[0m\u001b[0;34m\u001b[0m\u001b[0;34m\u001b[0m\u001b[0m\n\u001b[0m\u001b[1;32m    239\u001b[0m     \u001b[0;32mexcept\u001b[0m \u001b[0mIOError\u001b[0m\u001b[0;34m:\u001b[0m\u001b[0;34m\u001b[0m\u001b[0;34m\u001b[0m\u001b[0m\n\u001b[1;32m    240\u001b[0m         \u001b[0mttf_filename\u001b[0m \u001b[0;34m=\u001b[0m \u001b[0mos\u001b[0m\u001b[0;34m.\u001b[0m\u001b[0mpath\u001b[0m\u001b[0;34m.\u001b[0m\u001b[0mbasename\u001b[0m\u001b[0;34m(\u001b[0m\u001b[0mfont\u001b[0m\u001b[0;34m)\u001b[0m\u001b[0;34m\u001b[0m\u001b[0;34m\u001b[0m\u001b[0m\n",
            "\u001b[0;32m/usr/local/lib/python3.6/dist-packages/PIL/ImageFont.py\u001b[0m in \u001b[0;36m__init__\u001b[0;34m(self, font, size, index, encoding)\u001b[0m\n\u001b[1;32m    125\u001b[0m \u001b[0;34m\u001b[0m\u001b[0m\n\u001b[1;32m    126\u001b[0m         \u001b[0;32mif\u001b[0m \u001b[0misPath\u001b[0m\u001b[0;34m(\u001b[0m\u001b[0mfont\u001b[0m\u001b[0;34m)\u001b[0m\u001b[0;34m:\u001b[0m\u001b[0;34m\u001b[0m\u001b[0;34m\u001b[0m\u001b[0m\n\u001b[0;32m--> 127\u001b[0;31m             \u001b[0mself\u001b[0m\u001b[0;34m.\u001b[0m\u001b[0mfont\u001b[0m \u001b[0;34m=\u001b[0m \u001b[0mcore\u001b[0m\u001b[0;34m.\u001b[0m\u001b[0mgetfont\u001b[0m\u001b[0;34m(\u001b[0m\u001b[0mfont\u001b[0m\u001b[0;34m,\u001b[0m \u001b[0msize\u001b[0m\u001b[0;34m,\u001b[0m \u001b[0mindex\u001b[0m\u001b[0;34m,\u001b[0m \u001b[0mencoding\u001b[0m\u001b[0;34m)\u001b[0m\u001b[0;34m\u001b[0m\u001b[0;34m\u001b[0m\u001b[0m\n\u001b[0m\u001b[1;32m    128\u001b[0m         \u001b[0;32melse\u001b[0m\u001b[0;34m:\u001b[0m\u001b[0;34m\u001b[0m\u001b[0;34m\u001b[0m\u001b[0m\n\u001b[1;32m    129\u001b[0m             \u001b[0mself\u001b[0m\u001b[0;34m.\u001b[0m\u001b[0mfont_bytes\u001b[0m \u001b[0;34m=\u001b[0m \u001b[0mfont\u001b[0m\u001b[0;34m.\u001b[0m\u001b[0mread\u001b[0m\u001b[0;34m(\u001b[0m\u001b[0;34m)\u001b[0m\u001b[0;34m\u001b[0m\u001b[0;34m\u001b[0m\u001b[0m\n",
            "\u001b[0;31mOSError\u001b[0m: cannot open resource"
          ]
        }
      ]
    },
    {
      "metadata": {
        "id": "H18SNrPCDJJU",
        "colab_type": "code",
        "outputId": "2da71cb1-cd85-4e14-8581-6503dc1da674",
        "colab": {
          "base_uri": "https://localhost:8080/",
          "height": 34
        }
      },
      "cell_type": "code",
      "source": [
        "file = open('names.txt')\n",
        "names = file.read().split('\\n')\n",
        "file.close()\n",
        "\n",
        "file = open('lastName.txt')\n",
        "names += file.read().split('\\n')\n",
        "file.close()\n",
        "\n",
        "print(\"a total of\", len(names), 'first an last names where found ')\n",
        "\n",
        "fonts = ['Far_khodkar/Far_khodkar.ttf']\n",
        "fonts = ['B-Mitra/B Mitra_0.ttf']"
      ],
      "execution_count": 0,
      "outputs": [
        {
          "output_type": "stream",
          "text": [
            "a total of 6351 first an last names where found \n"
          ],
          "name": "stdout"
        }
      ]
    },
    {
      "metadata": {
        "id": "x_01JNNIUEk8",
        "colab_type": "code",
        "outputId": "1da3cd27-293f-408e-9f21-8750f27573b5",
        "colab": {
          "base_uri": "https://localhost:8080/",
          "height": 320
        }
      },
      "cell_type": "code",
      "source": [
        "alphabet = {}\n",
        "alphabet_inv = []\n",
        "i = 0\n",
        "max_len = 0\n",
        "lens = [0] * 25\n",
        "for word in names:\n",
        "  lens[len(word)] += 1\n",
        "  if (len(word) > max_len):\n",
        "    max_len = len(word)\n",
        "  for ch in word:\n",
        "    if ch not in alphabet:\n",
        "      if ch != '\\ufeff' and ch != '\\u200e' and ch != '\\u200c':\n",
        "        alphabet[ch] = i\n",
        "        alphabet_inv.append(ch)\n",
        "        i += 1\n",
        "\n",
        "alphabet['<END>'] = i\n",
        "alphabet['<PAD>'] = i + 1\n",
        "\n",
        "print(alphabet)\n",
        "print(max_len)\n",
        "plt.plot(lens)\n",
        "plt.show()"
      ],
      "execution_count": 0,
      "outputs": [
        {
          "output_type": "stream",
          "text": [
            "{'آ': 0, 'ئ': 1, 'ی': 2, 'ر': 3, 'ا': 4, 'ل': 5, 'ب': 6, ' ': 7, 'ح': 8, 'ت': 9, 'ن': 10, 'ه': 11, 'د': 12, 'س': 13, 'ق': 14, 'گ': 15, 'خ': 16, 'ز': 17, 'ف': 18, 'م': 19, 'ک': 20, 'و': 21, 'ش': 22, 'ج': 23, 'ژ': 24, 'پ': 25, 'چ': 26, 'ث': 27, 'ذ': 28, 'غ': 29, 'ط': 30, 'ص': 31, '،': 32, 'ض': 33, 'ع': 34, 'ظ': 35, 'ي': 36, 'ك': 37, 'ء': 38, 'ة': 39, 'ُ': 40, 'أ': 41, 'ؤ': 42, '<END>': 43, '<PAD>': 44}\n",
            "21\n"
          ],
          "name": "stdout"
        },
        {
          "output_type": "display_data",
          "data": {
            "image/png": "[encoded data removed]",
            "text/plain": [
              "<Figure size 432x288 with 1 Axes>"
            ]
          },
          "metadata": {
            "tags": []
          }
        }
      ]
    },
    {
      "metadata": {
        "id": "bFM8WN-UbPTp",
        "colab_type": "text"
      },
      "cell_type": "markdown",
      "source": [
        "# New Section"
      ]
    },
    {
      "metadata": {
        "id": "vsptbSjoGJGA",
        "colab_type": "code",
        "outputId": "c60b1f40-d793-4eb5-a8fe-9cdd700588cd",
        "colab": {
          "base_uri": "https://localhost:8080/",
          "height": 337
        }
      },
      "cell_type": "code",
      "source": [
        "X = []\n",
        "y = []\n",
        "for i in range(500):\n",
        "  if i % 1000 == 0:\n",
        "    print(i)\n",
        "    if i % 10000 == 0 and i != 0:\n",
        "      X_ = np.array(X)\n",
        "      y_ = np.array(y)\n",
        "      np.save('X.npy', X_)\n",
        "      np.save('y.npy', y_)\n",
        "    \n",
        "  font_index = np.random.randint(0, len(fonts))\n",
        "  size = np.random.randint(40, 50)\n",
        "  text_index = np.random.randint(0, len(names))\n",
        "  while len(names[text_index]) > 6:\n",
        "    text_index = np.random.randint(0, len(names))\n",
        "  \n",
        "#   if 390 <= size * 0.5 * len(names[text_index]):\n",
        "#     pos_x = 10\n",
        "#   else:\n",
        "#     pos_x = np.random.randint(10, 400 - size * 0.5 * len(names[text_index]))\n",
        "  pos_x = 10\n",
        "  pos_y = np.random.randint(10, 90 - size * 1.1)\n",
        "  \n",
        "  img = Image.fromarray(np.zeros((90, 100)))\n",
        "  draw = ImageDraw.Draw(img)  \n",
        "  font = ImageFont.truetype(fonts[font_index], size)\n",
        "  \n",
        "  text = get_display(arabic_reshaper.reshape(names[text_index][0]))\n",
        "  \n",
        "  draw.text((pos_x, pos_y), text, 255, font=font)\n",
        "  img = np.array(img)\n",
        "  \n",
        "  lable = []\n",
        "#   for ch in names[text_index]:\n",
        "#     if ch in alphabet:\n",
        "#       lable += [alphabet[ch], alphabet[ch]]\n",
        "#   lable = [alphabet[ch] for ch in names[text_index][0] if ch in alphabet]\n",
        "  lable = [alphabet[names[text_index][0]]]\n",
        "  lable.append(alphabet['<END>'])\n",
        "  while len(lable) != 7:\n",
        "    lable.append(alphabet['<PAD>'])\n",
        "  \n",
        "  X.append(img)\n",
        "  y.append(lable)\n",
        "  \n",
        "X = np.array(X)\n",
        "y = np.array(y)\n",
        "\n",
        "# np.save('X.npy', X)\n",
        "# np.save('y.npy', y)\n",
        "\n",
        "print('shape of X :', X.shape)\n",
        "print('shape of y :', y.shape)\n",
        "\n",
        "plt.imshow(X[1])\n",
        "print(y[1])"
      ],
      "execution_count": 0,
      "outputs": [
        {
          "output_type": "stream",
          "text": [
            "0\n",
            "shape of X : (500, 90, 100)\n",
            "shape of y : (500, 7)\n",
            "[20 43 44 44 44 44 44]\n"
          ],
          "name": "stdout"
        },
        {
          "output_type": "display_data",
          "data": {
            "image/png": "[encoded data removed]",
            "text/plain": [
              "<Figure size 432x288 with 1 Axes>"
            ]
          },
          "metadata": {
            "tags": []
          }
        }
      ]
    },
    {
      "metadata": {
        "id": "NkJ9ST5hcMjj",
        "colab_type": "code",
        "outputId": "81ea39c2-4db1-45b8-b002-b6a4b4fe8d00",
        "colab": {
          "base_uri": "https://localhost:8080/",
          "height": 358
        }
      },
      "cell_type": "code",
      "source": [
        "X = np.load('X.npy')\n",
        "y = np.load('y.npy')\n",
        "\n",
        "print(X.shape)\n",
        "print(y.shape)"
      ],
      "execution_count": 0,
      "outputs": [
        {
          "output_type": "error",
          "ename": "FileNotFoundError",
          "evalue": "ignored",
          "traceback": [
            "\u001b[0;31m---------------------------------------------------------------------------\u001b[0m",
            "\u001b[0;31mFileNotFoundError\u001b[0m                         Traceback (most recent call last)",
            "\u001b[0;32m<ipython-input-7-7bff966a0f18>\u001b[0m in \u001b[0;36m<module>\u001b[0;34m()\u001b[0m\n\u001b[0;32m----> 1\u001b[0;31m \u001b[0mX\u001b[0m \u001b[0;34m=\u001b[0m \u001b[0mnp\u001b[0m\u001b[0;34m.\u001b[0m\u001b[0mload\u001b[0m\u001b[0;34m(\u001b[0m\u001b[0;34m'X.npy'\u001b[0m\u001b[0;34m)\u001b[0m\u001b[0;34m\u001b[0m\u001b[0;34m\u001b[0m\u001b[0m\n\u001b[0m\u001b[1;32m      2\u001b[0m \u001b[0my\u001b[0m \u001b[0;34m=\u001b[0m \u001b[0mnp\u001b[0m\u001b[0;34m.\u001b[0m\u001b[0mload\u001b[0m\u001b[0;34m(\u001b[0m\u001b[0;34m'y.npy'\u001b[0m\u001b[0;34m)\u001b[0m\u001b[0;34m\u001b[0m\u001b[0;34m\u001b[0m\u001b[0m\n\u001b[1;32m      3\u001b[0m \u001b[0;34m\u001b[0m\u001b[0m\n\u001b[1;32m      4\u001b[0m \u001b[0mprint\u001b[0m\u001b[0;34m(\u001b[0m\u001b[0mX\u001b[0m\u001b[0;34m.\u001b[0m\u001b[0mshape\u001b[0m\u001b[0;34m)\u001b[0m\u001b[0;34m\u001b[0m\u001b[0;34m\u001b[0m\u001b[0m\n\u001b[1;32m      5\u001b[0m \u001b[0mprint\u001b[0m\u001b[0;34m(\u001b[0m\u001b[0my\u001b[0m\u001b[0;34m.\u001b[0m\u001b[0mshape\u001b[0m\u001b[0;34m)\u001b[0m\u001b[0;34m\u001b[0m\u001b[0;34m\u001b[0m\u001b[0m\n",
            "\u001b[0;32m/usr/local/lib/python3.6/dist-packages/numpy/lib/npyio.py\u001b[0m in \u001b[0;36mload\u001b[0;34m(file, mmap_mode, allow_pickle, fix_imports, encoding)\u001b[0m\n\u001b[1;32m    370\u001b[0m     \u001b[0mown_fid\u001b[0m \u001b[0;34m=\u001b[0m \u001b[0;32mFalse\u001b[0m\u001b[0;34m\u001b[0m\u001b[0;34m\u001b[0m\u001b[0m\n\u001b[1;32m    371\u001b[0m     \u001b[0;32mif\u001b[0m \u001b[0misinstance\u001b[0m\u001b[0;34m(\u001b[0m\u001b[0mfile\u001b[0m\u001b[0;34m,\u001b[0m \u001b[0mbasestring\u001b[0m\u001b[0;34m)\u001b[0m\u001b[0;34m:\u001b[0m\u001b[0;34m\u001b[0m\u001b[0;34m\u001b[0m\u001b[0m\n\u001b[0;32m--> 372\u001b[0;31m         \u001b[0mfid\u001b[0m \u001b[0;34m=\u001b[0m \u001b[0mopen\u001b[0m\u001b[0;34m(\u001b[0m\u001b[0mfile\u001b[0m\u001b[0;34m,\u001b[0m \u001b[0;34m\"rb\"\u001b[0m\u001b[0;34m)\u001b[0m\u001b[0;34m\u001b[0m\u001b[0;34m\u001b[0m\u001b[0m\n\u001b[0m\u001b[1;32m    373\u001b[0m         \u001b[0mown_fid\u001b[0m \u001b[0;34m=\u001b[0m \u001b[0;32mTrue\u001b[0m\u001b[0;34m\u001b[0m\u001b[0;34m\u001b[0m\u001b[0m\n\u001b[1;32m    374\u001b[0m     \u001b[0;32melif\u001b[0m \u001b[0mis_pathlib_path\u001b[0m\u001b[0;34m(\u001b[0m\u001b[0mfile\u001b[0m\u001b[0;34m)\u001b[0m\u001b[0;34m:\u001b[0m\u001b[0;34m\u001b[0m\u001b[0;34m\u001b[0m\u001b[0m\n",
            "\u001b[0;31mFileNotFoundError\u001b[0m: [Errno 2] No such file or directory: 'X.npy'"
          ]
        }
      ]
    },
    {
      "metadata": {
        "id": "QR74i-m9hjWl",
        "colab_type": "code",
        "outputId": "63b40a4a-a794-41df-aa45-6e9a59b65ba3",
        "colab": {
          "base_uri": "https://localhost:8080/",
          "height": 34
        }
      },
      "cell_type": "code",
      "source": [
        "import keras.backend as K\n",
        "from keras.models import Sequential\n",
        "from keras.layers import Conv2D, MaxPooling2D, SimpleRNN, Reshape, Dense, Flatten, TimeDistributed, Dropout\n",
        "from keras.utils import to_categorical\n",
        "from keras.optimizers import Adam\n",
        "import tensorflow as tf"
      ],
      "execution_count": 0,
      "outputs": [
        {
          "output_type": "stream",
          "text": [
            "Using TensorFlow backend.\n"
          ],
          "name": "stderr"
        }
      ]
    },
    {
      "metadata": {
        "id": "kFodvqv_m2xx",
        "colab_type": "code",
        "outputId": "54582e59-ddcb-4b25-8601-6547e976eba7",
        "colab": {
          "base_uri": "https://localhost:8080/",
          "height": 86
        }
      },
      "cell_type": "code",
      "source": [
        "X /= 255.\n",
        "X = 1 - X\n",
        "\n",
        "X = X.transpose((0, 2, 1))\n",
        "X = X.reshape(X.shape + (1, ))\n",
        "\n",
        "y = to_categorical(y)\n",
        "\n",
        "X = X[:, ::-1, :, :]\n",
        "\n",
        "X_train = X[:int(X.shape[0] * 0.8)]\n",
        "y_train = y[:int(X.shape[0] * 0.8)]\n",
        "\n",
        "X_test = X[int(X.shape[0] * 0.8):]\n",
        "y_test = y[int(X.shape[0] * 0.8):]\n",
        "\n",
        "print(X_train.shape)\n",
        "print(X_test.shape)\n",
        "print(y_train.shape)\n",
        "print(y_test.shape)"
      ],
      "execution_count": 0,
      "outputs": [
        {
          "output_type": "stream",
          "text": [
            "(400, 100, 90, 1)\n",
            "(100, 100, 90, 1)\n",
            "(400, 7, 45)\n",
            "(100, 7, 45)\n"
          ],
          "name": "stdout"
        }
      ]
    },
    {
      "metadata": {
        "id": "Q7o2X931J210",
        "colab_type": "code",
        "outputId": "a3832057-0d17-4c61-9c98-81b04b5c050c",
        "colab": {
          "base_uri": "https://localhost:8080/",
          "height": 286
        }
      },
      "cell_type": "code",
      "source": [
        "plt.imshow(X_test[:5, :, :, 0].reshape((-1, 90)))"
      ],
      "execution_count": 0,
      "outputs": [
        {
          "output_type": "execute_result",
          "data": {
            "text/plain": [
              "<matplotlib.image.AxesImage at 0x7fa1a0742940>"
            ]
          },
          "metadata": {
            "tags": []
          },
          "execution_count": 11
        },
        {
          "output_type": "display_data",
          "data": {
            "image/png": "[encoded data removed]",
            "text/plain": [
              "<Figure size 432x288 with 1 Axes>"
            ]
          },
          "metadata": {
            "tags": []
          }
        }
      ]
    },
    {
      "metadata": {
        "id": "Gk9t87IVMLNk",
        "colab_type": "code",
        "colab": {}
      },
      "cell_type": "code",
      "source": [
        "CNNmodel = Sequential()\n",
        "RNNmodel = Sequential()\n",
        "model = Sequential()\n",
        "CNNTmpModel = Sequential()\n",
        "\n",
        "model.add(Conv2D(8, (3, 3), padding='same', activation='relu', input_shape=(None, 90, 1))) # 28 * 76\n",
        "model.add(MaxPooling2D((2,2), strides=(2,2))) # 14 * 38\n",
        "\n",
        "\n",
        "model.add(Conv2D(16, (3, 3), padding='same', activation='relu')) # 12 * 36\n",
        "model.add(MaxPooling2D((2,2), strides=(2,2))) # 6 * 18\n",
        "model.add(Dropout(0.2))\n",
        "\n",
        "model.add(Conv2D(32, (3, 3), padding='same', activation='relu')) # 4 * 16\n",
        "model.add(MaxPooling2D((2,2), strides=(1,2))) # 4 * 8\n",
        "model.add(Dropout(0.4))\n",
        "\n",
        "model.add(Conv2D(64, (3, 3), padding='same', activation='relu')) # 2 * 6\n",
        "model.add(MaxPooling2D((1,3), strides=(1,3))) # 1 * 3\n",
        "\n",
        "model.add(Conv2D(64, (3, 3), padding='same', activation='relu')) # 1 * 1\n",
        "model.add(MaxPooling2D((2,3), strides=(2,3)))\n",
        "\n",
        "model.add(TimeDistributed(Flatten()))\n",
        "\n",
        "model.add(SimpleRNN(64, activation='softmax', return_sequences=True))\n",
        "model.add(SimpleRNN(45, activation='softmax', return_sequences=True))\n",
        "\n",
        "\n",
        "\n",
        "CNNTmpModel.add(Conv2D(8, (3, 3), padding='same', activation='relu', input_shape=(100, 90, 1))) # 28 * 76\n",
        "CNNTmpModel.add(MaxPooling2D((2,2), strides=(2,2))) # 14 * 38\n",
        "\n",
        "\n",
        "CNNTmpModel.add(Conv2D(16, (3, 3), padding='same', activation='relu')) # 12 * 36\n",
        "CNNTmpModel.add(MaxPooling2D((2,2), strides=(2,2))) # 6 * 18\n",
        "CNNTmpModel.add(Dropout(0.2))\n",
        "\n",
        "CNNTmpModel.add(Conv2D(32, (3, 3), padding='same', activation='relu')) # 4 * 16\n",
        "CNNTmpModel.add(MaxPooling2D((2,2), strides=(1,2))) # 4 * 8\n",
        "CNNTmpModel.add(Dropout(0.4))\n",
        "\n",
        "CNNTmpModel.add(Conv2D(64, (3, 3), padding='same', activation='relu')) # 2 * 6\n",
        "CNNTmpModel.add(MaxPooling2D((1,3), strides=(1,3))) # 1 * 3\n",
        "\n",
        "CNNTmpModel.add(Conv2D(64, (3, 3), padding='same', activation='relu')) # 1 * 1\n",
        "CNNTmpModel.add(MaxPooling2D((2,3), strides=(2,3)))\n",
        "\n",
        "CNNTmpModel.add(MaxPooling2D((12, 1), strides=(12, 1)))\n",
        "CNNTmpModel.add(Flatten())\n",
        "CNNTmpModel.add(Dense(45, activation='softmax'))"
      ],
      "execution_count": 0,
      "outputs": []
    },
    {
      "metadata": {
        "id": "hCHPsjoFTeUp",
        "colab_type": "code",
        "outputId": "1522ec88-c888-4458-9d5a-d9cf2e39e2db",
        "colab": {
          "base_uri": "https://localhost:8080/",
          "height": 1302
        }
      },
      "cell_type": "code",
      "source": [
        "model.summary()\n",
        "CNNTmpModel.summary()"
      ],
      "execution_count": 0,
      "outputs": [
        {
          "output_type": "stream",
          "text": [
            "_________________________________________________________________\n",
            "Layer (type)                 Output Shape              Param #   \n",
            "=================================================================\n",
            "conv2d_1 (Conv2D)            (None, None, 90, 8)       80        \n",
            "_________________________________________________________________\n",
            "max_pooling2d_1 (MaxPooling2 (None, None, 45, 8)       0         \n",
            "_________________________________________________________________\n",
            "conv2d_2 (Conv2D)            (None, None, 45, 16)      1168      \n",
            "_________________________________________________________________\n",
            "max_pooling2d_2 (MaxPooling2 (None, None, 22, 16)      0         \n",
            "_________________________________________________________________\n",
            "dropout_1 (Dropout)          (None, None, 22, 16)      0         \n",
            "_________________________________________________________________\n",
            "conv2d_3 (Conv2D)            (None, None, 22, 32)      4640      \n",
            "_________________________________________________________________\n",
            "max_pooling2d_3 (MaxPooling2 (None, None, 11, 32)      0         \n",
            "_________________________________________________________________\n",
            "dropout_2 (Dropout)          (None, None, 11, 32)      0         \n",
            "_________________________________________________________________\n",
            "conv2d_4 (Conv2D)            (None, None, 11, 64)      18496     \n",
            "_________________________________________________________________\n",
            "max_pooling2d_4 (MaxPooling2 (None, None, 3, 64)       0         \n",
            "_________________________________________________________________\n",
            "conv2d_5 (Conv2D)            (None, None, 3, 64)       36928     \n",
            "_________________________________________________________________\n",
            "max_pooling2d_5 (MaxPooling2 (None, None, 1, 64)       0         \n",
            "_________________________________________________________________\n",
            "time_distributed_1 (TimeDist (None, None, 64)          0         \n",
            "_________________________________________________________________\n",
            "simple_rnn_1 (SimpleRNN)     (None, None, 64)          8256      \n",
            "_________________________________________________________________\n",
            "simple_rnn_2 (SimpleRNN)     (None, None, 45)          4950      \n",
            "=================================================================\n",
            "Total params: 74,518\n",
            "Trainable params: 74,518\n",
            "Non-trainable params: 0\n",
            "_________________________________________________________________\n",
            "_________________________________________________________________\n",
            "Layer (type)                 Output Shape              Param #   \n",
            "=================================================================\n",
            "conv2d_6 (Conv2D)            (None, 100, 90, 8)        80        \n",
            "_________________________________________________________________\n",
            "max_pooling2d_6 (MaxPooling2 (None, 50, 45, 8)         0         \n",
            "_________________________________________________________________\n",
            "conv2d_7 (Conv2D)            (None, 50, 45, 16)        1168      \n",
            "_________________________________________________________________\n",
            "max_pooling2d_7 (MaxPooling2 (None, 25, 22, 16)        0         \n",
            "_________________________________________________________________\n",
            "dropout_3 (Dropout)          (None, 25, 22, 16)        0         \n",
            "_________________________________________________________________\n",
            "conv2d_8 (Conv2D)            (None, 25, 22, 32)        4640      \n",
            "_________________________________________________________________\n",
            "max_pooling2d_8 (MaxPooling2 (None, 24, 11, 32)        0         \n",
            "_________________________________________________________________\n",
            "dropout_4 (Dropout)          (None, 24, 11, 32)        0         \n",
            "_________________________________________________________________\n",
            "conv2d_9 (Conv2D)            (None, 24, 11, 64)        18496     \n",
            "_________________________________________________________________\n",
            "max_pooling2d_9 (MaxPooling2 (None, 24, 3, 64)         0         \n",
            "_________________________________________________________________\n",
            "conv2d_10 (Conv2D)           (None, 24, 3, 64)         36928     \n",
            "_________________________________________________________________\n",
            "max_pooling2d_10 (MaxPooling (None, 12, 1, 64)         0         \n",
            "_________________________________________________________________\n",
            "max_pooling2d_11 (MaxPooling (None, 1, 1, 64)          0         \n",
            "_________________________________________________________________\n",
            "flatten_2 (Flatten)          (None, 64)                0         \n",
            "_________________________________________________________________\n",
            "dense_1 (Dense)              (None, 45)                2925      \n",
            "=================================================================\n",
            "Total params: 64,237\n",
            "Trainable params: 64,237\n",
            "Non-trainable params: 0\n",
            "_________________________________________________________________\n"
          ],
          "name": "stdout"
        }
      ]
    },
    {
      "metadata": {
        "id": "7rKQPp8kwOcA",
        "colab_type": "code",
        "colab": {}
      },
      "cell_type": "code",
      "source": [
        "batch_size = 100\n",
        "\n",
        "def ctc_loss(y_true, y_pred):\n",
        "  y_true = tf.argmax(y_true, axis=2)\n",
        "  y_true = tf.cast(y_true, tf.int32)\n",
        "  \n",
        "  zero = tf.constant(0, dtype=tf.int32)\n",
        "  where = tf.not_equal(y_true, zero)\n",
        "  indices = tf.where(where)\n",
        "  values = tf.gather_nd(y_true, indices)\n",
        "  sparse = tf.SparseTensor(indices, values, (batch_size, 25))\n",
        "  \n",
        "  return tf.reduce_mean(tf.nn.ctc_loss(sparse, y_pred, tf.ones(batch_size, dtype=tf.int32) * 50, time_major=False))\n",
        "\n",
        "def ctc_lambda_func(labels, y_pred):\n",
        "#   t = K.get_value(K.ctc_decode(y_pred, input_length=np.ones(100)*12,\n",
        "#                            greedy=True)[0][0])\n",
        "\n",
        "#   t = tf.hstack((t, -tf.ones((t.shape[0], 1))))\n",
        "#   print(tf.argmin(t, axis=1))\n",
        "  \n",
        "  input_length = np.ones((batch_size, 1)) * 12\n",
        "#   input_length = tf.argmin(t, axis=1)\n",
        "  label_length = np.ones((batch_size, 1)) * 2\n",
        "  \n",
        "#   batch_real_len = 12 - tf.reduce_sum((tf.argmax(y_pred, )), axis=1)\n",
        "  \n",
        "  l = tf.argmax(labels, axis=2)\n",
        "  # the 2 is critical here since the first couple outputs of the RNN\n",
        "  # tend to be garbage:\n",
        "  p = K.ctc_batch_cost(l, y_pred, input_length, label_length)\n",
        "  return p"
      ],
      "execution_count": 0,
      "outputs": []
    },
    {
      "metadata": {
        "id": "n3LHTaCQuQpK",
        "colab_type": "code",
        "colab": {}
      },
      "cell_type": "code",
      "source": [
        "model.compile(optimizer=Adam(lr=1), loss=ctc_lambda_func)\n",
        "CNNTmpModel.compile(optimizer=Adam(lr=1), loss='categorical_crossentropy', metrics=['acc'])"
      ],
      "execution_count": 0,
      "outputs": []
    },
    {
      "metadata": {
        "id": "Z0YzBnmAzfu8",
        "colab_type": "code",
        "outputId": "693c05ec-0aca-40b9-a274-6f85af9e3fdf",
        "colab": {
          "base_uri": "https://localhost:8080/",
          "height": 3525
        }
      },
      "cell_type": "code",
      "source": [
        "# CNNTmpModel.optimizer = Adam(lr=0.01)\n",
        "# CNNTmpModel.fit(X_train, y_train[:, 0, :], batch_size=batch_size, epochs=200, validation_data=(X_test, y_test[:, 0, :]))\n",
        "\n",
        "\n",
        "# for layer in model.layers[:11]:\n",
        "#   layer.trainable = False\n",
        "\n",
        "# model.optimizer = Adam(lr=0.1)\n",
        "# for i in range(100):\n",
        "  \n",
        "w1 = CNNTmpModel.get_weights()\n",
        "w2 = model.get_weights()\n",
        "\n",
        "w2[:10] = w1[:10]\n",
        "model.set_weights(w2)\n",
        "model.fit(X_train, y_train, batch_size=batch_size, epochs=100, validation_data=(X_test, y_test))\n"
      ],
      "execution_count": 0,
      "outputs": [
        {
          "output_type": "stream",
          "text": [
            "Train on 400 samples, validate on 100 samples\n",
            "Epoch 1/100\n",
            "400/400 [==============================] - 2s 4ms/step - loss: 19.0528 - val_loss: 17.1849\n",
            "Epoch 2/100\n",
            "400/400 [==============================] - 0s 1ms/step - loss: 17.2398 - val_loss: 17.6654\n",
            "Epoch 3/100\n",
            "400/400 [==============================] - 0s 1ms/step - loss: 17.2051 - val_loss: 17.1755\n",
            "Epoch 4/100\n",
            "400/400 [==============================] - 0s 1ms/step - loss: 17.0672 - val_loss: 17.2807\n",
            "Epoch 5/100\n",
            "400/400 [==============================] - 0s 1ms/step - loss: 17.0522 - val_loss: 17.1200\n",
            "Epoch 6/100\n",
            "400/400 [==============================] - 0s 1ms/step - loss: 17.0055 - val_loss: 17.0319\n",
            "Epoch 7/100\n",
            "400/400 [==============================] - 0s 1ms/step - loss: 16.9948 - val_loss: 17.1364\n",
            "Epoch 8/100\n",
            "400/400 [==============================] - 0s 1ms/step - loss: 16.9715 - val_loss: 17.0363\n",
            "Epoch 9/100\n",
            "400/400 [==============================] - 0s 1ms/step - loss: 16.9703 - val_loss: 17.0222\n",
            "Epoch 10/100\n",
            "400/400 [==============================] - 0s 1ms/step - loss: 16.9529 - val_loss: 17.0817\n",
            "Epoch 11/100\n",
            "400/400 [==============================] - 0s 1ms/step - loss: 16.9385 - val_loss: 17.0462\n",
            "Epoch 12/100\n",
            "400/400 [==============================] - 0s 1ms/step - loss: 16.9457 - val_loss: 17.0131\n",
            "Epoch 13/100\n",
            "400/400 [==============================] - 0s 1ms/step - loss: 16.9553 - val_loss: 17.0796\n",
            "Epoch 14/100\n",
            "400/400 [==============================] - 1s 1ms/step - loss: 16.9529 - val_loss: 17.0086\n",
            "Epoch 15/100\n",
            "400/400 [==============================] - 0s 1ms/step - loss: 16.9532 - val_loss: 17.0693\n",
            "Epoch 16/100\n",
            "400/400 [==============================] - 0s 1ms/step - loss: 16.9595 - val_loss: 17.1071\n",
            "Epoch 17/100\n",
            "400/400 [==============================] - 0s 1ms/step - loss: 16.9384 - val_loss: 16.9940\n",
            "Epoch 18/100\n",
            "400/400 [==============================] - 0s 1ms/step - loss: 16.9310 - val_loss: 16.9978\n",
            "Epoch 19/100\n",
            "400/400 [==============================] - 0s 1ms/step - loss: 16.9674 - val_loss: 17.0955\n",
            "Epoch 20/100\n",
            "400/400 [==============================] - 0s 1ms/step - loss: 16.9421 - val_loss: 17.0244\n",
            "Epoch 21/100\n",
            "400/400 [==============================] - 0s 1ms/step - loss: 16.9426 - val_loss: 16.9772\n",
            "Epoch 22/100\n",
            "400/400 [==============================] - 0s 1ms/step - loss: 16.9153 - val_loss: 17.0830\n",
            "Epoch 23/100\n",
            "400/400 [==============================] - 0s 1ms/step - loss: 16.9345 - val_loss: 17.0110\n",
            "Epoch 24/100\n",
            "400/400 [==============================] - 0s 1ms/step - loss: 16.9437 - val_loss: 17.0363\n",
            "Epoch 25/100\n",
            "400/400 [==============================] - 0s 1ms/step - loss: 16.9524 - val_loss: 17.0345\n",
            "Epoch 26/100\n",
            "400/400 [==============================] - 0s 1ms/step - loss: 16.9700 - val_loss: 17.0421\n",
            "Epoch 27/100\n",
            "400/400 [==============================] - 0s 1ms/step - loss: 16.9442 - val_loss: 17.0791\n",
            "Epoch 28/100\n",
            "400/400 [==============================] - 0s 1ms/step - loss: 16.9403 - val_loss: 17.0305\n",
            "Epoch 29/100\n",
            "400/400 [==============================] - 0s 1ms/step - loss: 16.9367 - val_loss: 17.1243\n",
            "Epoch 30/100\n",
            "400/400 [==============================] - 0s 1ms/step - loss: 16.9506 - val_loss: 17.1022\n",
            "Epoch 31/100\n",
            "400/400 [==============================] - 0s 1ms/step - loss: 16.9667 - val_loss: 16.8940\n",
            "Epoch 32/100\n",
            "400/400 [==============================] - 0s 1ms/step - loss: 15.0863 - val_loss: 12.4594\n",
            "Epoch 33/100\n",
            "400/400 [==============================] - 0s 1ms/step - loss: 11.7691 - val_loss: 13.3101\n",
            "Epoch 34/100\n",
            "400/400 [==============================] - 0s 1ms/step - loss: 13.0943 - val_loss: 11.3658\n",
            "Epoch 35/100\n",
            "400/400 [==============================] - 0s 1ms/step - loss: 10.4078 - val_loss: 7.7796\n",
            "Epoch 36/100\n",
            "400/400 [==============================] - 0s 1ms/step - loss: 9.0704 - val_loss: 8.1226\n",
            "Epoch 37/100\n",
            "400/400 [==============================] - 0s 1ms/step - loss: 9.5792 - val_loss: 8.0817\n",
            "Epoch 38/100\n",
            "400/400 [==============================] - 1s 1ms/step - loss: 9.5543 - val_loss: 7.9756\n",
            "Epoch 39/100\n",
            "400/400 [==============================] - 0s 1ms/step - loss: 9.3100 - val_loss: 7.6802\n",
            "Epoch 40/100\n",
            "400/400 [==============================] - 1s 1ms/step - loss: 9.1433 - val_loss: 7.7775\n",
            "Epoch 41/100\n",
            "400/400 [==============================] - 0s 1ms/step - loss: 8.9764 - val_loss: 7.7434\n",
            "Epoch 42/100\n",
            "400/400 [==============================] - 0s 1ms/step - loss: 8.9954 - val_loss: 7.5670\n",
            "Epoch 43/100\n",
            "400/400 [==============================] - 0s 1ms/step - loss: 8.9196 - val_loss: 7.5827\n",
            "Epoch 44/100\n",
            "400/400 [==============================] - 0s 1ms/step - loss: 8.9360 - val_loss: 7.6166\n",
            "Epoch 45/100\n",
            "400/400 [==============================] - 0s 1ms/step - loss: 8.8953 - val_loss: 7.5604\n",
            "Epoch 46/100\n",
            "400/400 [==============================] - 1s 1ms/step - loss: 8.8896 - val_loss: 7.6512\n",
            "Epoch 47/100\n",
            "400/400 [==============================] - 0s 1ms/step - loss: 8.8884 - val_loss: 7.5738\n",
            "Epoch 48/100\n",
            "400/400 [==============================] - 0s 1ms/step - loss: 8.8926 - val_loss: 7.5806\n",
            "Epoch 49/100\n",
            "400/400 [==============================] - 0s 1ms/step - loss: 8.8953 - val_loss: 7.6487\n",
            "Epoch 50/100\n",
            "400/400 [==============================] - 0s 1ms/step - loss: 8.8913 - val_loss: 7.5303\n",
            "Epoch 51/100\n",
            "400/400 [==============================] - 0s 1ms/step - loss: 8.9111 - val_loss: 7.6038\n",
            "Epoch 52/100\n",
            "400/400 [==============================] - 0s 1ms/step - loss: 8.8694 - val_loss: 7.6294\n",
            "Epoch 53/100\n",
            "400/400 [==============================] - 0s 1ms/step - loss: 8.8785 - val_loss: 7.5529\n",
            "Epoch 54/100\n",
            "400/400 [==============================] - 0s 1ms/step - loss: 8.8871 - val_loss: 7.5395\n",
            "Epoch 55/100\n",
            "400/400 [==============================] - 0s 1ms/step - loss: 8.8905 - val_loss: 7.5768\n",
            "Epoch 56/100\n",
            "400/400 [==============================] - 0s 1ms/step - loss: 8.8564 - val_loss: 7.5709\n",
            "Epoch 57/100\n",
            "400/400 [==============================] - 0s 1ms/step - loss: 8.8862 - val_loss: 7.5384\n",
            "Epoch 58/100\n",
            "400/400 [==============================] - 0s 1ms/step - loss: 8.8639 - val_loss: 7.5816\n",
            "Epoch 59/100\n",
            "400/400 [==============================] - 0s 1ms/step - loss: 8.8932 - val_loss: 7.5400\n",
            "Epoch 60/100\n",
            "400/400 [==============================] - 0s 1ms/step - loss: 8.8635 - val_loss: 7.5909\n",
            "Epoch 61/100\n",
            "400/400 [==============================] - 0s 1ms/step - loss: 8.8622 - val_loss: 7.5424\n",
            "Epoch 62/100\n",
            "400/400 [==============================] - 0s 1ms/step - loss: 8.8684 - val_loss: 7.5396\n",
            "Epoch 63/100\n",
            "400/400 [==============================] - 0s 1ms/step - loss: 8.8717 - val_loss: 7.5714\n",
            "Epoch 64/100\n",
            "400/400 [==============================] - 0s 1ms/step - loss: 8.8718 - val_loss: 7.5448\n",
            "Epoch 65/100\n",
            "400/400 [==============================] - 0s 1ms/step - loss: 8.8601 - val_loss: 7.5393\n",
            "Epoch 66/100\n",
            "400/400 [==============================] - 0s 1ms/step - loss: 8.8597 - val_loss: 7.5782\n",
            "Epoch 67/100\n",
            "400/400 [==============================] - 0s 1ms/step - loss: 8.8771 - val_loss: 7.5289\n",
            "Epoch 68/100\n",
            "400/400 [==============================] - 0s 1ms/step - loss: 8.8793 - val_loss: 7.5956\n",
            "Epoch 69/100\n",
            "400/400 [==============================] - 0s 1ms/step - loss: 8.8733 - val_loss: 7.5325\n",
            "Epoch 70/100\n",
            "400/400 [==============================] - 0s 1ms/step - loss: 8.8708 - val_loss: 7.5761\n",
            "Epoch 71/100\n",
            "400/400 [==============================] - 0s 1ms/step - loss: 8.8867 - val_loss: 7.5688\n",
            "Epoch 72/100\n",
            "400/400 [==============================] - 0s 1ms/step - loss: 8.8751 - val_loss: 7.5443\n",
            "Epoch 73/100\n",
            "400/400 [==============================] - 0s 1ms/step - loss: 8.8868 - val_loss: 7.5707\n",
            "Epoch 74/100\n",
            "400/400 [==============================] - 0s 1ms/step - loss: 8.8734 - val_loss: 7.5792\n",
            "Epoch 75/100\n",
            "400/400 [==============================] - 0s 1ms/step - loss: 8.8973 - val_loss: 7.5377\n",
            "Epoch 76/100\n",
            "400/400 [==============================] - 0s 1ms/step - loss: 8.8728 - val_loss: 7.5902\n",
            "Epoch 77/100\n",
            "400/400 [==============================] - 0s 1ms/step - loss: 8.8746 - val_loss: 7.5400\n",
            "Epoch 78/100\n",
            "400/400 [==============================] - 0s 1ms/step - loss: 8.8949 - val_loss: 7.6094\n",
            "Epoch 79/100\n",
            "400/400 [==============================] - 0s 1ms/step - loss: 8.8686 - val_loss: 7.5909\n",
            "Epoch 80/100\n",
            "400/400 [==============================] - 0s 1ms/step - loss: 8.9100 - val_loss: 7.5262\n",
            "Epoch 81/100\n",
            "400/400 [==============================] - 0s 1ms/step - loss: 8.8521 - val_loss: 7.5456\n",
            "Epoch 82/100\n",
            "400/400 [==============================] - 0s 1ms/step - loss: 8.8934 - val_loss: 7.6078\n",
            "Epoch 83/100\n",
            "400/400 [==============================] - 0s 1ms/step - loss: 8.8955 - val_loss: 7.5973\n",
            "Epoch 84/100\n",
            "400/400 [==============================] - 0s 1ms/step - loss: 8.8764 - val_loss: 7.4988\n",
            "Epoch 85/100\n",
            "400/400 [==============================] - 0s 1ms/step - loss: 8.9086 - val_loss: 7.5597\n",
            "Epoch 86/100\n",
            "400/400 [==============================] - 0s 1ms/step - loss: 8.9217 - val_loss: 7.6111\n",
            "Epoch 87/100\n",
            "400/400 [==============================] - 0s 1ms/step - loss: 8.9019 - val_loss: 7.5944\n",
            "Epoch 88/100\n",
            "400/400 [==============================] - 1s 1ms/step - loss: 8.8958 - val_loss: 7.6037\n",
            "Epoch 89/100\n",
            "400/400 [==============================] - 0s 1ms/step - loss: 8.9109 - val_loss: 7.5372\n",
            "Epoch 90/100\n",
            "400/400 [==============================] - 0s 1ms/step - loss: 8.9202 - val_loss: 7.6463\n",
            "Epoch 91/100\n",
            "400/400 [==============================] - 0s 1ms/step - loss: 8.9281 - val_loss: 7.6436\n",
            "Epoch 92/100\n",
            "400/400 [==============================] - 0s 1ms/step - loss: 8.9036 - val_loss: 7.5462\n",
            "Epoch 93/100\n",
            "400/400 [==============================] - 0s 1ms/step - loss: 8.8774 - val_loss: 7.6293\n",
            "Epoch 94/100\n",
            "400/400 [==============================] - 0s 1ms/step - loss: 8.8928 - val_loss: 7.5480\n",
            "Epoch 95/100\n",
            "400/400 [==============================] - 0s 1ms/step - loss: 8.9040 - val_loss: 7.5937\n",
            "Epoch 96/100\n",
            "400/400 [==============================] - 0s 1ms/step - loss: 8.8961 - val_loss: 7.5786\n",
            "Epoch 97/100\n",
            "400/400 [==============================] - 0s 1ms/step - loss: 8.8688 - val_loss: 7.5571\n",
            "Epoch 98/100\n",
            "400/400 [==============================] - 0s 1ms/step - loss: 8.8839 - val_loss: 7.5731\n",
            "Epoch 99/100\n",
            "400/400 [==============================] - 0s 1ms/step - loss: 8.8826 - val_loss: 7.5488\n",
            "Epoch 100/100\n",
            "400/400 [==============================] - 0s 1ms/step - loss: 8.8825 - val_loss: 7.5859\n"
          ],
          "name": "stdout"
        },
        {
          "output_type": "execute_result",
          "data": {
            "text/plain": [
              "<keras.callbacks.History at 0x7fa1986837b8>"
            ]
          },
          "metadata": {
            "tags": []
          },
          "execution_count": 24
        }
      ]
    },
    {
      "metadata": {
        "id": "OYG8lyugp-wq",
        "colab_type": "code",
        "outputId": "4dbba585-5ec8-4159-9c94-88ece747b0d3",
        "colab": {
          "base_uri": "https://localhost:8080/",
          "height": 191
        }
      },
      "cell_type": "code",
      "source": [
        "for i in range(len(be)):\n",
        "  print(np.sum((be[i] - af[i]) ** 2))"
      ],
      "execution_count": 0,
      "outputs": [
        {
          "output_type": "stream",
          "text": [
            "0.80629146\n",
            "0.11882983\n",
            "7.811528\n",
            "0.07857303\n",
            "12.360407\n",
            "0.1631856\n",
            "92.01965\n",
            "0.30326968\n",
            "314.79446\n",
            "0.3994335\n"
          ],
          "name": "stdout"
        }
      ]
    },
    {
      "metadata": {
        "id": "vTPntRSA3_kC",
        "colab_type": "code",
        "outputId": "2a1c2e69-930a-441a-ef89-fb04738b862e",
        "colab": {
          "base_uri": "https://localhost:8080/",
          "height": 526
        }
      },
      "cell_type": "code",
      "source": [
        "t = y_train.argmax(axis=2)[:, 0]\n",
        "plt.hist(t, bins=45)"
      ],
      "execution_count": 0,
      "outputs": [
        {
          "output_type": "execute_result",
          "data": {
            "text/plain": [
              "(array([33.,  0.,  7., 18.,  0., 24.,  6., 38.,  0.,  0.,  9., 14.,  0.,\n",
              "        16., 20., 10.,  0., 25.,  5.,  9.,  0., 12.,  4., 21.,  0., 32.,\n",
              "        18., 19.,  0., 19.,  2.,  3.,  0., 18.,  3.,  0.,  0.,  1.,  0.,\n",
              "         2.,  0.,  2.,  0.,  1.,  9.]),\n",
              " array([ 0.        ,  0.75555556,  1.51111111,  2.26666667,  3.02222222,\n",
              "         3.77777778,  4.53333333,  5.28888889,  6.04444444,  6.8       ,\n",
              "         7.55555556,  8.31111111,  9.06666667,  9.82222222, 10.57777778,\n",
              "        11.33333333, 12.08888889, 12.84444444, 13.6       , 14.35555556,\n",
              "        15.11111111, 15.86666667, 16.62222222, 17.37777778, 18.13333333,\n",
              "        18.88888889, 19.64444444, 20.4       , 21.15555556, 21.91111111,\n",
              "        22.66666667, 23.42222222, 24.17777778, 24.93333333, 25.68888889,\n",
              "        26.44444444, 27.2       , 27.95555556, 28.71111111, 29.46666667,\n",
              "        30.22222222, 30.97777778, 31.73333333, 32.48888889, 33.24444444,\n",
              "        34.        ]),\n",
              " <a list of 45 Patch objects>)"
            ]
          },
          "metadata": {
            "tags": []
          },
          "execution_count": 23
        },
        {
          "output_type": "display_data",
          "data": {
            "image/png": "[encoded data removed]",
            "text/plain": [
              "<matplotlib.figure.Figure at 0x7f2494b8cd68>"
            ]
          },
          "metadata": {
            "tags": []
          }
        }
      ]
    },
    {
      "metadata": {
        "id": "EWvhlhFze82F",
        "colab_type": "code",
        "outputId": "d72d0f1a-451d-450f-c52f-69f740520cb9",
        "colab": {
          "base_uri": "https://localhost:8080/",
          "height": 202
        }
      },
      "cell_type": "code",
      "source": [
        "pred = model.predict(X_test[:1])\n",
        "\n",
        "pred[1].shape"
      ],
      "execution_count": 0,
      "outputs": [
        {
          "output_type": "error",
          "ename": "IndexError",
          "evalue": "ignored",
          "traceback": [
            "\u001b[0;31m---------------------------------------------------------------------------\u001b[0m",
            "\u001b[0;31mIndexError\u001b[0m                                Traceback (most recent call last)",
            "\u001b[0;32m<ipython-input-228-bbe735721b3d>\u001b[0m in \u001b[0;36m<module>\u001b[0;34m()\u001b[0m\n\u001b[1;32m      1\u001b[0m \u001b[0mpred\u001b[0m \u001b[0;34m=\u001b[0m \u001b[0mmodel\u001b[0m\u001b[0;34m.\u001b[0m\u001b[0mpredict\u001b[0m\u001b[0;34m(\u001b[0m\u001b[0mX_test\u001b[0m\u001b[0;34m[\u001b[0m\u001b[0;34m:\u001b[0m\u001b[0;36m1\u001b[0m\u001b[0;34m]\u001b[0m\u001b[0;34m)\u001b[0m\u001b[0;34m\u001b[0m\u001b[0;34m\u001b[0m\u001b[0m\n\u001b[1;32m      2\u001b[0m \u001b[0;34m\u001b[0m\u001b[0m\n\u001b[0;32m----> 3\u001b[0;31m \u001b[0mpred\u001b[0m\u001b[0;34m[\u001b[0m\u001b[0;36m1\u001b[0m\u001b[0;34m]\u001b[0m\u001b[0;34m.\u001b[0m\u001b[0mshape\u001b[0m\u001b[0;34m\u001b[0m\u001b[0;34m\u001b[0m\u001b[0m\n\u001b[0m",
            "\u001b[0;31mIndexError\u001b[0m: index 1 is out of bounds for axis 0 with size 1"
          ]
        }
      ]
    },
    {
      "metadata": {
        "id": "BjDTmWKDHQDr",
        "colab_type": "code",
        "colab": {}
      },
      "cell_type": "code",
      "source": [
        "def toText(X_row, alphabet_inv):\n",
        "  X_chars = X_row.argmax(axis=1)\n",
        "  text = ''\n",
        "  for ch in X_chars:\n",
        "    if ch < len(alphabet_inv):\n",
        "      text += alphabet_inv[ch]\n",
        "  return text"
      ],
      "execution_count": 0,
      "outputs": []
    },
    {
      "metadata": {
        "id": "KstQMgNGBnbK",
        "colab_type": "code",
        "outputId": "30ddc143-6f7e-40c2-a069-fe247abb02e1",
        "colab": {
          "base_uri": "https://localhost:8080/",
          "height": 382
        }
      },
      "cell_type": "code",
      "source": [
        "pred = model.predict(X_test[:10])\n",
        "for i in range(10):\n",
        "    print(i, toText(pred[i], alphabet_inv))\n",
        "  \n",
        "t = K.get_value(K.ctc_decode(pred, input_length=np.ones(pred.shape[0])*pred.shape[1],\n",
        "                         greedy=True)[0][0])\n",
        "\n",
        "t = np.hstack((t, -np.ones((t.shape[0], 1))))\n",
        "print(t.argmin(axis=1))\n",
        "print(t)"
      ],
      "execution_count": 0,
      "outputs": [
        {
          "output_type": "stream",
          "text": [
            "0 ب\n",
            "1 ب\n",
            "2 ب\n",
            "3 ب\n",
            "4 ب\n",
            "5 ب\n",
            "6 ب\n",
            "7 ب\n",
            "8 ب\n",
            "9 ب\n",
            "[2 2 2 2 2 2 2 2 2 2]\n",
            "[[ 6. 43. -1.]\n",
            " [ 6. 43. -1.]\n",
            " [ 6. 43. -1.]\n",
            " [ 6. 43. -1.]\n",
            " [ 6. 43. -1.]\n",
            " [ 6. 43. -1.]\n",
            " [ 6. 43. -1.]\n",
            " [ 6. 43. -1.]\n",
            " [ 6. 43. -1.]\n",
            " [ 6. 43. -1.]]\n"
          ],
          "name": "stdout"
        }
      ]
    },
    {
      "metadata": {
        "id": "paSrcV_HDWf2",
        "colab_type": "code",
        "colab": {}
      },
      "cell_type": "code",
      "source": [
        "pred = CNNmodel.predict(X_test[1:2])[0]\n",
        "\n",
        "print(pred.shape)\n",
        "\n",
        "plt.imshow(pred[:, 0, :])"
      ],
      "execution_count": 0,
      "outputs": []
    },
    {
      "metadata": {
        "id": "o-MtOL0PyaVE",
        "colab_type": "code",
        "outputId": "b92a59e2-8bb9-4258-86d3-523716b56fbb",
        "colab": {
          "base_uri": "https://localhost:8080/",
          "height": 295
        }
      },
      "cell_type": "code",
      "source": [
        "print(y_test[1])\n",
        "pred = model_tmp.predict(X_test[1:2])[0]\n",
        "\n",
        "print(pred.shape)\n",
        "\n",
        "img = 255 - pred.reshape((24, 3*64)) / pred.max() * 256\n",
        "img = cv2.resize(img, None, fx=4, fy=4, interpolation=cv2.INTER_NEAREST)\n",
        "cv2.imwrite('image_10_C.jpg', img)"
      ],
      "execution_count": 0,
      "outputs": [
        {
          "output_type": "stream",
          "text": [
            "[[0. 0. 0. 0. 0. 0. 0. 0. 0. 0. 1. 0. 0. 0. 0. 0. 0. 0. 0. 0. 0. 0. 0. 0.\n",
            "  0. 0. 0. 0. 0. 0. 0. 0. 0. 0. 0. 0. 0. 0. 0. 0. 0. 0. 0. 0. 0.]\n",
            " [0. 0. 0. 0. 0. 0. 0. 0. 0. 0. 0. 0. 0. 0. 0. 0. 0. 0. 0. 0. 0. 0. 0. 0.\n",
            "  0. 0. 0. 0. 0. 0. 0. 0. 0. 0. 0. 0. 0. 0. 0. 0. 0. 0. 0. 0. 1.]\n",
            " [0. 0. 0. 0. 0. 0. 0. 0. 0. 0. 0. 0. 0. 0. 0. 0. 0. 0. 0. 0. 0. 0. 0. 0.\n",
            "  0. 0. 0. 0. 0. 0. 0. 0. 0. 0. 0. 0. 0. 0. 0. 0. 0. 0. 0. 0. 1.]\n",
            " [0. 0. 0. 0. 0. 0. 0. 0. 0. 0. 0. 0. 0. 0. 0. 0. 0. 0. 0. 0. 0. 0. 0. 0.\n",
            "  0. 0. 0. 0. 0. 0. 0. 0. 0. 0. 0. 0. 0. 0. 0. 0. 0. 0. 0. 0. 1.]\n",
            " [0. 0. 0. 0. 0. 0. 0. 0. 0. 0. 0. 0. 0. 0. 0. 0. 0. 0. 0. 0. 0. 0. 0. 0.\n",
            "  0. 0. 0. 0. 0. 0. 0. 0. 0. 0. 0. 0. 0. 0. 0. 0. 0. 0. 0. 0. 1.]\n",
            " [0. 0. 0. 0. 0. 0. 0. 0. 0. 0. 0. 0. 0. 0. 0. 0. 0. 0. 0. 0. 0. 0. 0. 0.\n",
            "  0. 0. 0. 0. 0. 0. 0. 0. 0. 0. 0. 0. 0. 0. 0. 0. 0. 0. 0. 0. 1.]\n",
            " [0. 0. 0. 0. 0. 0. 0. 0. 0. 0. 0. 0. 0. 0. 0. 0. 0. 0. 0. 0. 0. 0. 0. 0.\n",
            "  0. 0. 0. 0. 0. 0. 0. 0. 0. 0. 0. 0. 0. 0. 0. 0. 0. 0. 0. 0. 1.]]\n",
            "(24, 3, 64)\n"
          ],
          "name": "stdout"
        },
        {
          "output_type": "execute_result",
          "data": {
            "text/plain": [
              "True"
            ]
          },
          "metadata": {
            "tags": []
          },
          "execution_count": 94
        }
      ]
    },
    {
      "metadata": {
        "id": "gT0wB6TOcL6_",
        "colab_type": "code",
        "outputId": "480b7599-1171-4eb8-8193-fc1400e59c07",
        "colab": {
          "base_uri": "https://localhost:8080/",
          "height": 52
        }
      },
      "cell_type": "code",
      "source": [
        "pred = model_tmp.predict(X_train[:100])\n",
        "print(pred.shape)\n",
        "\n",
        "pred2 = model_tmp2.predict(pred)\n",
        "\n",
        "prd = []\n",
        "for i in range(1, 13):\n",
        "  p = model_tmp2.predict(pred[:, :i])\n",
        "  prd.append(p[:, -1, :])\n",
        "\n",
        "prd = np.array(prd)\n",
        "prd = np.transpose(prd, (1, 0, 2))\n",
        "print(np.sum((prd - pred2) ** 2))"
      ],
      "execution_count": 0,
      "outputs": [
        {
          "output_type": "stream",
          "text": [
            "(100, 12, 64)\n",
            "0.0\n"
          ],
          "name": "stdout"
        }
      ]
    },
    {
      "metadata": {
        "id": "2ceuby5bVLR7",
        "colab_type": "code",
        "outputId": "c5589f27-4789-4e64-823d-12da5c8cd311",
        "colab": {
          "base_uri": "https://localhost:8080/",
          "height": 367
        }
      },
      "cell_type": "code",
      "source": [
        "model_tmp = Sequential()\n",
        "model_tmp2 = Sequential()\n",
        "\n",
        "model_tmp.add(Conv2D(8, (3, 3), padding='same', activation='relu', input_shape=(None, 90, 1))) # 28 * 76\n",
        "model_tmp.add(MaxPooling2D((2,2), strides=(2,2))) # 14 * 38\n",
        "\n",
        "\n",
        "model_tmp.add(Conv2D(16, (3, 3), padding='same', activation='relu')) # 12 * 36\n",
        "model_tmp.add(MaxPooling2D((2,2), strides=(2,2))) # 6 * 18\n",
        "model_tmp.add(Dropout(0.2))\n",
        "\n",
        "model_tmp.add(Conv2D(32, (3, 3), padding='same', activation='relu')) # 4 * 16\n",
        "model_tmp.add(MaxPooling2D((2,2), strides=(1,2))) # 4 * 8\n",
        "model_tmp.add(Dropout(0.4))\n",
        "\n",
        "model_tmp.add(Conv2D(64, (3, 3), padding='same', activation='relu')) # 2 * 6\n",
        "model_tmp.add(MaxPooling2D((1,3), strides=(1,3))) # 1 * 3\n",
        "\n",
        "model_tmp.add(Conv2D(64, (3, 3), padding='same', activation='relu')) # 1 * 1\n",
        "model_tmp.add(MaxPooling2D((2,3), strides=(2,3)))\n",
        "\n",
        "model_tmp.add(TimeDistributed(Flatten()))\n",
        "\n",
        "model_tmp.add(SimpleRNN(64, activation='softmax', return_sequences=True))\n",
        "model_tmp2.add(SimpleRNN(45, activation='softmax', return_sequences=True, input_dim=64))\n",
        "\n",
        "# model_tmp.add(MaxPooling2D((12, 1), strides=(12, 1)))\n",
        "# model_tmp.add(Flatten())\n",
        "# model_tmp.add(Dense(64, activation='relu'))\n",
        "# model_tmp.add(Dense(45, activation='softmax'))\n",
        "\n",
        "print(len(model.get_weights()))\n",
        "for i in range(len(model.get_weights())):\n",
        "  print('\\t', i, model.get_weights()[i].shape)\n",
        "model_tmp.set_weights(model.get_weights()[:13])\n",
        "model_tmp2.set_weights(model.get_weights()[13:])"
      ],
      "execution_count": 0,
      "outputs": [
        {
          "output_type": "stream",
          "text": [
            "/usr/local/lib/python3.6/dist-packages/ipykernel_launcher.py:25: UserWarning: The `input_dim` and `input_length` arguments in recurrent layers are deprecated. Use `input_shape` instead.\n",
            "/usr/local/lib/python3.6/dist-packages/ipykernel_launcher.py:25: UserWarning: Update your `SimpleRNN` call to the Keras 2 API: `SimpleRNN(45, activation=\"softmax\", return_sequences=True, input_shape=(None, 64))`\n"
          ],
          "name": "stderr"
        },
        {
          "output_type": "stream",
          "text": [
            "16\n",
            "\t 0 (3, 3, 1, 8)\n",
            "\t 1 (8,)\n",
            "\t 2 (3, 3, 8, 16)\n",
            "\t 3 (16,)\n",
            "\t 4 (3, 3, 16, 32)\n",
            "\t 5 (32,)\n",
            "\t 6 (3, 3, 32, 64)\n",
            "\t 7 (64,)\n",
            "\t 8 (3, 3, 64, 64)\n",
            "\t 9 (64,)\n",
            "\t 10 (64, 64)\n",
            "\t 11 (64, 64)\n",
            "\t 12 (64,)\n",
            "\t 13 (64, 45)\n",
            "\t 14 (45, 45)\n",
            "\t 15 (45,)\n"
          ],
          "name": "stdout"
        }
      ]
    },
    {
      "metadata": {
        "id": "v5U9j2f9T-Ui",
        "colab_type": "code",
        "outputId": "24472c0d-eb9d-4160-d12d-c3d62767b5b2",
        "colab": {
          "base_uri": "https://localhost:8080/",
          "height": 237
        }
      },
      "cell_type": "code",
      "source": [
        "t = y_train[:100].argmax(axis=2)\n",
        "\n",
        "pad = np.array([[44] * 2 for i in range(100)])\n",
        "\n",
        "\n",
        "y_pred = np.hstack((pad, pad, t[:, :1], pad, t[:, 1:2], pad, pad))\n",
        "y_pred = to_categorical(y_pred)\n",
        "\n",
        "pred = model.predict(X_train[:100])\n",
        "\n",
        "print(y_pred.shape)\n",
        "print(pred.shape)\n",
        "print(y_train[:100].shape)\n",
        "\n",
        "with tf.Session():\n",
        "  print(ctc_lambda_func(y_train[:100], y_pred).eval())\n",
        "  t = ctc_lambda_func(y_train[:100], y_pred)\n",
        "  print(K.gradients(t, y_pred[0]))\n",
        "  print(ctc_lambda_func(y_train[:100], pred).eval())"
      ],
      "execution_count": 0,
      "outputs": [
        {
          "output_type": "error",
          "ename": "NameError",
          "evalue": "ignored",
          "traceback": [
            "\u001b[0;31m---------------------------------------------------------------------------\u001b[0m",
            "\u001b[0;31mNameError\u001b[0m                                 Traceback (most recent call last)",
            "\u001b[0;32m<ipython-input-1-b1a05152f564>\u001b[0m in \u001b[0;36m<module>\u001b[0;34m()\u001b[0m\n\u001b[0;32m----> 1\u001b[0;31m \u001b[0mt\u001b[0m \u001b[0;34m=\u001b[0m \u001b[0my_train\u001b[0m\u001b[0;34m[\u001b[0m\u001b[0;34m:\u001b[0m\u001b[0;36m100\u001b[0m\u001b[0;34m]\u001b[0m\u001b[0;34m.\u001b[0m\u001b[0margmax\u001b[0m\u001b[0;34m(\u001b[0m\u001b[0maxis\u001b[0m\u001b[0;34m=\u001b[0m\u001b[0;36m2\u001b[0m\u001b[0;34m)\u001b[0m\u001b[0;34m\u001b[0m\u001b[0;34m\u001b[0m\u001b[0m\n\u001b[0m\u001b[1;32m      2\u001b[0m \u001b[0;34m\u001b[0m\u001b[0m\n\u001b[1;32m      3\u001b[0m \u001b[0mpad\u001b[0m \u001b[0;34m=\u001b[0m \u001b[0mnp\u001b[0m\u001b[0;34m.\u001b[0m\u001b[0marray\u001b[0m\u001b[0;34m(\u001b[0m\u001b[0;34m[\u001b[0m\u001b[0;34m[\u001b[0m\u001b[0;36m44\u001b[0m\u001b[0;34m]\u001b[0m \u001b[0;34m*\u001b[0m \u001b[0;36m2\u001b[0m \u001b[0;32mfor\u001b[0m \u001b[0mi\u001b[0m \u001b[0;32min\u001b[0m \u001b[0mrange\u001b[0m\u001b[0;34m(\u001b[0m\u001b[0;36m100\u001b[0m\u001b[0;34m)\u001b[0m\u001b[0;34m]\u001b[0m\u001b[0;34m)\u001b[0m\u001b[0;34m\u001b[0m\u001b[0;34m\u001b[0m\u001b[0m\n\u001b[1;32m      4\u001b[0m \u001b[0;34m\u001b[0m\u001b[0m\n\u001b[1;32m      5\u001b[0m \u001b[0;34m\u001b[0m\u001b[0m\n",
            "\u001b[0;31mNameError\u001b[0m: name 'y_train' is not defined"
          ]
        }
      ]
    }
  ]
}